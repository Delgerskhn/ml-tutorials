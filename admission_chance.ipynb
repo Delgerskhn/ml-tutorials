{
 "cells": [
  {
   "cell_type": "markdown",
   "metadata": {},
   "source": [
    "# ML Basic: Linear Regression буюу Шугаман регресс\n",
    "\n",
    "* Жишээ      :   Их Сургуульд тэнцэх магадлалыг тооцох 🎓\n",
    "* Гүйцэтгэсэн:     Я.Баярцогт (Дэнцү Дата Артист Монгол ХХК 😎)\n",
    "* Он:      2020 😷\n",
    "\n",
    "### Агуулга:\n",
    "1. [Бэлтгэл ажил](#Бэлтгэл-Ажил) 🙇\n",
    "2. [Сургалт](#Одоо-сургалтын-бэлтгэлрүүгээ-оръё) 🤖\n",
    "3. [Шалгаж үзэх (Тоглох)](#Шалгаж-үзэх) 👀\n",
    "4. [Хэрэглэгдсэн материалууд](#Хэрэглэгдсэн-материалууд:) 🙏🏻"
   ]
  },
  {
   "cell_type": "markdown",
   "metadata": {},
   "source": [
    "Хэрэглэгдэх сангуудыг суулгах\n",
    "Хэрвээ танд хэрэглэгдэж буй сангууд байхгүй бол доорх мөрийг ажиллуулснаар сангууд суух болно.\n",
    "```\n",
    "! pip install numpy pandas matplotlib\n",
    "```"
   ]
  },
  {
   "cell_type": "code",
   "execution_count": 1,
   "metadata": {},
   "outputs": [],
   "source": [
    "import numpy as np\n",
    "import pandas as pd\n",
    "import matplotlib.pyplot as plt"
   ]
  },
  {
   "cell_type": "code",
   "execution_count": 2,
   "metadata": {
    "scrolled": true
   },
   "outputs": [
    {
     "name": "stdout",
     "output_type": "stream",
     "text": [
      "(400, 9)\n"
     ]
    },
    {
     "data": {
      "text/html": [
       "<div>\n",
       "<style scoped>\n",
       "    .dataframe tbody tr th:only-of-type {\n",
       "        vertical-align: middle;\n",
       "    }\n",
       "\n",
       "    .dataframe tbody tr th {\n",
       "        vertical-align: top;\n",
       "    }\n",
       "\n",
       "    .dataframe thead th {\n",
       "        text-align: right;\n",
       "    }\n",
       "</style>\n",
       "<table border=\"1\" class=\"dataframe\">\n",
       "  <thead>\n",
       "    <tr style=\"text-align: right;\">\n",
       "      <th></th>\n",
       "      <th>Serial No.</th>\n",
       "      <th>GRE Score</th>\n",
       "      <th>TOEFL Score</th>\n",
       "      <th>University Rating</th>\n",
       "      <th>SOP</th>\n",
       "      <th>LOR</th>\n",
       "      <th>CGPA</th>\n",
       "      <th>Research</th>\n",
       "      <th>Chance of Admit</th>\n",
       "    </tr>\n",
       "  </thead>\n",
       "  <tbody>\n",
       "    <tr>\n",
       "      <th>0</th>\n",
       "      <td>1</td>\n",
       "      <td>337</td>\n",
       "      <td>118</td>\n",
       "      <td>4</td>\n",
       "      <td>4.5</td>\n",
       "      <td>4.5</td>\n",
       "      <td>9.65</td>\n",
       "      <td>1</td>\n",
       "      <td>0.92</td>\n",
       "    </tr>\n",
       "    <tr>\n",
       "      <th>1</th>\n",
       "      <td>2</td>\n",
       "      <td>324</td>\n",
       "      <td>107</td>\n",
       "      <td>4</td>\n",
       "      <td>4.0</td>\n",
       "      <td>4.5</td>\n",
       "      <td>8.87</td>\n",
       "      <td>1</td>\n",
       "      <td>0.76</td>\n",
       "    </tr>\n",
       "    <tr>\n",
       "      <th>2</th>\n",
       "      <td>3</td>\n",
       "      <td>316</td>\n",
       "      <td>104</td>\n",
       "      <td>3</td>\n",
       "      <td>3.0</td>\n",
       "      <td>3.5</td>\n",
       "      <td>8.00</td>\n",
       "      <td>1</td>\n",
       "      <td>0.72</td>\n",
       "    </tr>\n",
       "    <tr>\n",
       "      <th>3</th>\n",
       "      <td>4</td>\n",
       "      <td>322</td>\n",
       "      <td>110</td>\n",
       "      <td>3</td>\n",
       "      <td>3.5</td>\n",
       "      <td>2.5</td>\n",
       "      <td>8.67</td>\n",
       "      <td>1</td>\n",
       "      <td>0.80</td>\n",
       "    </tr>\n",
       "    <tr>\n",
       "      <th>4</th>\n",
       "      <td>5</td>\n",
       "      <td>314</td>\n",
       "      <td>103</td>\n",
       "      <td>2</td>\n",
       "      <td>2.0</td>\n",
       "      <td>3.0</td>\n",
       "      <td>8.21</td>\n",
       "      <td>0</td>\n",
       "      <td>0.65</td>\n",
       "    </tr>\n",
       "  </tbody>\n",
       "</table>\n",
       "</div>"
      ],
      "text/plain": [
       "   Serial No.  GRE Score  TOEFL Score  University Rating  SOP  LOR   CGPA  \\\n",
       "0           1        337          118                  4  4.5   4.5  9.65   \n",
       "1           2        324          107                  4  4.0   4.5  8.87   \n",
       "2           3        316          104                  3  3.0   3.5  8.00   \n",
       "3           4        322          110                  3  3.5   2.5  8.67   \n",
       "4           5        314          103                  2  2.0   3.0  8.21   \n",
       "\n",
       "   Research  Chance of Admit   \n",
       "0         1              0.92  \n",
       "1         1              0.76  \n",
       "2         1              0.72  \n",
       "3         1              0.80  \n",
       "4         0              0.65  "
      ]
     },
     "execution_count": 2,
     "metadata": {},
     "output_type": "execute_result"
    }
   ],
   "source": [
    "df = pd.read_csv('./data/Admission_Predict.csv')\n",
    "print(df.shape)\n",
    "df.head()"
   ]
  },
  {
   "cell_type": "markdown",
   "metadata": {},
   "source": [
    "## Бэлтгэл Ажил\n",
    "Ойлгоход илүү амар болгохын тулд зөвхөн **НЭГ** feature сонгоод тэндээсээ тэнцэх эсэхээ таамаглах гээд оролдъё."
   ]
  },
  {
   "cell_type": "code",
   "execution_count": 3,
   "metadata": {},
   "outputs": [],
   "source": [
    "cols_to_use    = ['TOEFL Score']         # Энэ баганыг оролт байдлаар ашиглана.\n",
    "col_to_predict = 'Chance of Admit '      # Энэ баганыг таах гэж оролдоно."
   ]
  },
  {
   "cell_type": "markdown",
   "metadata": {},
   "source": [
    "### Бидний зорилго бол:\n",
    "\n",
    "1. TOEFL оноог ашиглан сургууль тэнцэх магадлалаа таамаглах\n",
    "2. **Хамгийн чухал нь** машин хэрхэн сурдгийг энгийнээр ойлгох\n",
    "   \n",
    "   \n",
    "   X => [манай модель] => Y"
   ]
  },
  {
   "cell_type": "code",
   "execution_count": 4,
   "metadata": {},
   "outputs": [],
   "source": [
    "X = df[cols_to_use]        # Оролт\n",
    "Y = df[col_to_predict]     # Хүлээгдэж буй гаралт"
   ]
  },
  {
   "cell_type": "code",
   "execution_count": 5,
   "metadata": {},
   "outputs": [
    {
     "data": {
      "text/html": [
       "<div>\n",
       "<style scoped>\n",
       "    .dataframe tbody tr th:only-of-type {\n",
       "        vertical-align: middle;\n",
       "    }\n",
       "\n",
       "    .dataframe tbody tr th {\n",
       "        vertical-align: top;\n",
       "    }\n",
       "\n",
       "    .dataframe thead th {\n",
       "        text-align: right;\n",
       "    }\n",
       "</style>\n",
       "<table border=\"1\" class=\"dataframe\">\n",
       "  <thead>\n",
       "    <tr style=\"text-align: right;\">\n",
       "      <th></th>\n",
       "      <th>TOEFL Score</th>\n",
       "    </tr>\n",
       "  </thead>\n",
       "  <tbody>\n",
       "    <tr>\n",
       "      <th>0</th>\n",
       "      <td>118</td>\n",
       "    </tr>\n",
       "    <tr>\n",
       "      <th>1</th>\n",
       "      <td>107</td>\n",
       "    </tr>\n",
       "  </tbody>\n",
       "</table>\n",
       "</div>"
      ],
      "text/plain": [
       "   TOEFL Score\n",
       "0          118\n",
       "1          107"
      ]
     },
     "execution_count": 5,
     "metadata": {},
     "output_type": "execute_result"
    }
   ],
   "source": [
    "# Оролт (Input) => X\n",
    "X.head(2)"
   ]
  },
  {
   "cell_type": "code",
   "execution_count": 6,
   "metadata": {
    "scrolled": true
   },
   "outputs": [
    {
     "data": {
      "text/plain": [
       "0    0.92\n",
       "1    0.76\n",
       "Name: Chance of Admit , dtype: float64"
      ]
     },
     "execution_count": 6,
     "metadata": {},
     "output_type": "execute_result"
    }
   ],
   "source": [
    "# Зөв гаралт (Ground Truth) - Y \n",
    "Y.head(2)"
   ]
  },
  {
   "cell_type": "code",
   "execution_count": 7,
   "metadata": {},
   "outputs": [
    {
     "data": {
      "image/png": "[encoded data removed]",
      "text/plain": [
       "<Figure size 432x288 with 1 Axes>"
      ]
     },
     "metadata": {
      "needs_background": "light"
     },
     "output_type": "display_data"
    }
   ],
   "source": [
    "plt.scatter(X, Y)\n",
    "plt.title('TOEFL vs Тэнцэх Магадлал')\n",
    "plt.xlabel('TOEFL Score ')\n",
    "plt.ylabel('Тэнцэх Магадлал ')\n",
    "plt.show()"
   ]
  },
  {
   "cell_type": "code",
   "execution_count": 8,
   "metadata": {},
   "outputs": [
    {
     "name": "stdout",
     "output_type": "stream",
     "text": [
      "Манай case дээр нийт 400 мөр дата 1 ширхэг feature байна.\n"
     ]
    }
   ],
   "source": [
    "n_of_data     = X.shape[0]\n",
    "n_of_features = X.shape[1]\n",
    "\n",
    "print(\"Манай case дээр нийт %i мөр дата %i ширхэг feature байна.\" % (n_of_data, n_of_features))"
   ]
  },
  {
   "cell_type": "markdown",
   "metadata": {},
   "source": [
    "Машин сургалтад feature normalization тооцоллыг илүү хурдасгахад чухал үүрэгтэй байдаг. \n",
    "\n",
    "Өөрөөр хэлбэл, TOEFL 118 оноотой хүн тэнцэх магадлал өндөр буюу 0.92 гэж бодсоноос илүү TOEFL дээр 93.3 (118/120) хувийн гйүцэтгэлтэй байгаа юм чинь тэнцэх магадлал их юм байна гэж бодсон нь тооцоход хамаагүй хялбар.\n",
    "\n",
    "Мэдээж маш олон төрлийн техникүүд байгаа ба тухайн нөхцөл байдлаас шалтгаалан алийг нь хэрэглэхээ шийддэг. [Normalization (statistics)](https://en.wikipedia.org/wiki/Normalization_(statistics))"
   ]
  },
  {
   "cell_type": "code",
   "execution_count": 9,
   "metadata": {},
   "outputs": [],
   "source": [
    "def fit_normalize(X):\n",
    "    mean = X.mean()                # дундаж\n",
    "    std = X.std()                  # стандарт хазайлт\n",
    "    \n",
    "    def normalizer(X):         \n",
    "        X_norm = (X - mean) / std  # дундажийг нь хасаад стандарт хазайлтад нь хуваах үйлдэл\n",
    "        return X_norm\n",
    "    \n",
    "    def denormalizer(X_norm):      # Дараа нь ямар зурж харахад амар гэдэг зорилгоор урвуу үйлдэл хийх функц\n",
    "        X_denorm = X_norm * np.array(std) + np.array(mean)\n",
    "        return X_denorm\n",
    "\n",
    "    return  normalizer, denormalizer"
   ]
  },
  {
   "cell_type": "code",
   "execution_count": 10,
   "metadata": {
    "scrolled": true
   },
   "outputs": [
    {
     "data": {
      "text/html": [
       "<div>\n",
       "<style scoped>\n",
       "    .dataframe tbody tr th:only-of-type {\n",
       "        vertical-align: middle;\n",
       "    }\n",
       "\n",
       "    .dataframe tbody tr th {\n",
       "        vertical-align: top;\n",
       "    }\n",
       "\n",
       "    .dataframe thead th {\n",
       "        text-align: right;\n",
       "    }\n",
       "</style>\n",
       "<table border=\"1\" class=\"dataframe\">\n",
       "  <thead>\n",
       "    <tr style=\"text-align: right;\">\n",
       "      <th></th>\n",
       "      <th>TOEFL Score</th>\n",
       "      <th>bias</th>\n",
       "    </tr>\n",
       "  </thead>\n",
       "  <tbody>\n",
       "    <tr>\n",
       "      <th>0</th>\n",
       "      <td>1.744786</td>\n",
       "      <td>1</td>\n",
       "    </tr>\n",
       "    <tr>\n",
       "      <th>1</th>\n",
       "      <td>-0.067551</td>\n",
       "      <td>1</td>\n",
       "    </tr>\n",
       "  </tbody>\n",
       "</table>\n",
       "</div>"
      ],
      "text/plain": [
       "   TOEFL Score  bias\n",
       "0     1.744786     1\n",
       "1    -0.067551     1"
      ]
     },
     "execution_count": 10,
     "metadata": {},
     "output_type": "execute_result"
    }
   ],
   "source": [
    "# Normalize хийх\n",
    "normalizer, denormalizer = fit_normalize(X)\n",
    "X_norm = normalizer(X)\n",
    "X_norm['bias'] = 1\n",
    "X_norm.head(2)"
   ]
  },
  {
   "cell_type": "markdown",
   "metadata": {},
   "source": [
    "## Одоо сургалтын бэлтгэлрүүгээ оръё\n",
    "\n",
    "Дараах үйлдлийг олон давтана (for-доно :D)\n",
    "1. **Forward Pass** буюу таамаглал хийх\n",
    "2. **Compute Loss** буюу таамагласан үр дүн ба жинхэнэ үр дүн хоёрын хоорондох алдааг тооцох\n",
    "3. **Compute Gradient** буюу тухайн мөч дэх Weight-матриксийн утгаар Градьент тооцох (Дараа нь Weight Matrix өөрчлөхөд ашиглана)\n",
    "4. **Update Weight** буюу гаргасан градьент-аараа Weight-ээ update хийнэ"
   ]
  },
  {
   "cell_type": "markdown",
   "metadata": {},
   "source": [
    "Таамаглал хийх:\n",
    "\n",
    "$ Ypred_i = X_{i} * W + B_{i} $"
   ]
  },
  {
   "cell_type": "code",
   "execution_count": 11,
   "metadata": {},
   "outputs": [],
   "source": [
    "def forward_pass(X_norm_, Weight):\n",
    "    prediction = np.dot(X_norm_, Weight)\n",
    "    \n",
    "    return prediction"
   ]
  },
  {
   "cell_type": "markdown",
   "metadata": {},
   "source": [
    "\n",
    "Алдаа тооцох функц:\n",
    "\n",
    "$ Mean Squared Error = \\frac{\\sum({Ypred_{i} - Y_{i}})^{2}}{2n} \n",
    "                     = \\frac{\\sum({(X_{i} * W + B) - Y_{i}})^{2}}{2n}  $\n"
   ]
  },
  {
   "cell_type": "code",
   "execution_count": 12,
   "metadata": {},
   "outputs": [],
   "source": [
    "def compute_loss(Y, Y_predict): # (400, 1),  (400, 1)\n",
    "    loss = np.sum(np.power(Y_predict - Y, 2)) / (2 * n_of_data)\n",
    "\n",
    "    return loss"
   ]
  },
  {
   "cell_type": "markdown",
   "metadata": {},
   "source": [
    "Градьент тооцох функц:\n",
    "\n",
    "$Gradient  = \\frac{d\\frac{\\sum({(X_{i} * W + B) - Y_{i}})^{2}}{2n}}{dW}\n",
    "           = \\frac{\\sum({(X_{i} * W + B) - Y_{i}) * X_{i}}}{n}  $"
   ]
  },
  {
   "cell_type": "code",
   "execution_count": 13,
   "metadata": {},
   "outputs": [],
   "source": [
    "# Gradient тооцох функц\n",
    "def compute_gradient(Y, Y_predict, X_norm_): # (400, 1),  (400, 1), (400, nfeatures)\n",
    "    grad = np.dot(X_norm_.T, (Y_predict - Y)) / n_of_data\n",
    "\n",
    "    return grad"
   ]
  },
  {
   "cell_type": "code",
   "execution_count": 14,
   "metadata": {},
   "outputs": [],
   "source": [
    "# Явцын дунд хэр сайн шулуун татаж байгааг харах функц\n",
    "def create_plot(X_norm_, Weight, Y):\n",
    "    # Forward Pass буюу таамаглал хийх\n",
    "    prediction = np.dot(X_norm_, Weight)\n",
    "    \n",
    "    # Плот үүсгэх\n",
    "    plt.scatter(denormalizer(X_norm_[:, 0]), Y, label='Жинхэнэ утга')\n",
    "    plt.plot(denormalizer(X_norm_[:, 0]), prediction, 'r', label='Таамаглал утга')\n",
    "    plt.xlabel('TOEFL Normalized')\n",
    "    plt.ylabel('Тэнцэх Магадлал')\n",
    "    plt.legend()\n",
    "    plt.show()"
   ]
  },
  {
   "cell_type": "markdown",
   "metadata": {},
   "source": [
    "Одоо тооцооллын хялбарчлахын тулд pandas. object оо numpy object болгоё"
   ]
  },
  {
   "cell_type": "code",
   "execution_count": 15,
   "metadata": {},
   "outputs": [],
   "source": [
    "X_norm_   = X_norm.to_numpy()                 # (400, nfeatures)\n",
    "Y_        = Y.to_numpy().reshape(-1, 1)       # (400, 1)\n",
    "\n",
    "# reshape(-1, 1) үйлдэл:  \n",
    "# Анх \"Y\" маань (400,) байгааг (400, 1) болгоно. Энэ нь дараа нэмэх хасах үйлдэл хийх үед алдаа гаргахгүй байлгах зорилготой юм."
   ]
  },
  {
   "cell_type": "code",
   "execution_count": 16,
   "metadata": {},
   "outputs": [],
   "source": [
    "np.random.seed(42)\n",
    "\n",
    "LEARNING_RATE = 1e-4\n",
    "EPOCHS        = 40000\n",
    "\n",
    "expected_output = 1"
   ]
  },
  {
   "cell_type": "code",
   "execution_count": 17,
   "metadata": {},
   "outputs": [],
   "source": [
    "loss_history = []\n",
    "\n",
    "# Манай тохиолдолд хэлбэр нь: (1, 1)\n",
    "Weight = np.random.rand(X_norm_.shape[1]).reshape(X_norm_.shape[1], expected_output) "
   ]
  },
  {
   "cell_type": "code",
   "execution_count": 18,
   "metadata": {
    "scrolled": false
   },
   "outputs": [
    {
     "name": "stdout",
     "output_type": "stream",
     "text": [
      "EPOCH  0 => LOSS  0.063553 \n"
     ]
    },
    {
     "data": {
      "image/png": "[encoded data removed]",
      "text/plain": [
       "<Figure size 432x288 with 1 Axes>"
      ]
     },
     "metadata": {
      "needs_background": "light"
     },
     "output_type": "display_data"
    },
    {
     "name": "stdout",
     "output_type": "stream",
     "text": [
      "EPOCH  8000 => LOSS  0.015880 \n"
     ]
    },
    {
     "data": {
      "image/png": "[encoded data removed]",
      "text/plain": [
       "<Figure size 432x288 with 1 Axes>"
      ]
     },
     "metadata": {
      "needs_background": "light"
     },
     "output_type": "display_data"
    },
    {
     "name": "stdout",
     "output_type": "stream",
     "text": [
      "EPOCH  16000 => LOSS  0.006234 \n"
     ]
    },
    {
     "data": {
      "image/png": "[encoded data removed]",
      "text/plain": [
       "<Figure size 432x288 with 1 Axes>"
      ]
     },
     "metadata": {
      "needs_background": "light"
     },
     "output_type": "display_data"
    },
    {
     "name": "stdout",
     "output_type": "stream",
     "text": [
      "EPOCH  24000 => LOSS  0.004282 \n"
     ]
    },
    {
     "data": {
      "image/png": "[encoded data removed]",
      "text/plain": [
       "<Figure size 432x288 with 1 Axes>"
      ]
     },
     "metadata": {
      "needs_background": "light"
     },
     "output_type": "display_data"
    },
    {
     "name": "stdout",
     "output_type": "stream",
     "text": [
      "EPOCH  32000 => LOSS  0.003887 \n"
     ]
    },
    {
     "data": {
      "image/png": "[encoded data removed]",
      "text/plain": [
       "<Figure size 432x288 with 1 Axes>"
      ]
     },
     "metadata": {
      "needs_background": "light"
     },
     "output_type": "display_data"
    }
   ],
   "source": [
    "for epoch in range(EPOCHS):\n",
    "    # Forward Pass буюу таамаглал хийх\n",
    "    Y_predict = forward_pass(X_norm_, Weight)       # (400, nfeatures) x (2, nfeatures) = (400, 1)\n",
    "\n",
    "    # Compute Loss буюу таамагласан үр дүн ба жинхэнэ үр дүн хоёрын хоорондох алдааг тооцох\n",
    "    loss = compute_loss(Y_, Y_predict)\n",
    "\n",
    "    # Compute Gradient буюу тухайн мөч дэх Weight-матриксийн утгаар Градьент тооцох (Дараа нь Weight Matrix өөрчлөхөд ашиглана)\n",
    "    gradient = compute_gradient(Y_, Y_predict, X_norm_)\n",
    "    \n",
    "    # Update Weight буюу гаргасан градьент-аараа Weight-ээ update хийнэ\n",
    "    Weight = Weight - LEARNING_RATE * gradient\n",
    "    \n",
    "    \n",
    "    loss_history.append(loss)\n",
    "    \n",
    "    if epoch % (EPOCHS // 5) == 0:\n",
    "        print(\"EPOCH  %i => LOSS  %f \" % (epoch, loss))\n",
    "        create_plot(X_norm_, Weight, Y) if X_norm_.shape[1] <= 2 else None"
   ]
  },
  {
   "cell_type": "markdown",
   "metadata": {},
   "source": [
    "### Алдааны history-г зурж харъя"
   ]
  },
  {
   "cell_type": "code",
   "execution_count": 19,
   "metadata": {
    "scrolled": true
   },
   "outputs": [
    {
     "data": {
      "image/png": "[encoded data removed]",
      "text/plain": [
       "<Figure size 432x288 with 1 Axes>"
      ]
     },
     "metadata": {
      "needs_background": "light"
     },
     "output_type": "display_data"
    }
   ],
   "source": [
    "plt.plot(loss_history)\n",
    "plt.xlabel(\"Бүтэн эргэлтийн тоо (Epoch)\")\n",
    "plt.ylabel(\"Алдаа (Loss)\")\n",
    "plt.show()"
   ]
  },
  {
   "cell_type": "markdown",
   "metadata": {},
   "source": [
    "## Шалгаж үзэх"
   ]
  },
  {
   "cell_type": "code",
   "execution_count": 20,
   "metadata": {},
   "outputs": [],
   "source": [
    "YOUR_TOEFL_SCORE = 95"
   ]
  },
  {
   "cell_type": "code",
   "execution_count": 21,
   "metadata": {},
   "outputs": [
    {
     "name": "stdout",
     "output_type": "stream",
     "text": [
      "    TOEFL оноо :  95\n",
      "Тэнцэх магадлал:  0.4877828181356869\n"
     ]
    }
   ],
   "source": [
    "your_df = pd.DataFrame({'TOEFL Score': [YOUR_TOEFL_SCORE]})\n",
    "\n",
    "# 1. Нормалчлах\n",
    "your_score_norm = normalizer(your_df)\n",
    "\n",
    "# 2. Bias нэмэх\n",
    "your_score_norm['bias'] = 1\n",
    "\n",
    "# 3.Numpy array болгох\n",
    "your_score_norm   = your_score_norm.to_numpy()\n",
    "\n",
    "# 2. forward_pass буюу таамаглал хийх\n",
    "your_score_norm = forward_pass(your_score_norm, Weight)\n",
    "\n",
    "print(\"    TOEFL оноо : \", YOUR_TOEFL_SCORE)\n",
    "print(\"Тэнцэх магадлал: \", your_score_norm.item())"
   ]
  },
  {
   "cell_type": "markdown",
   "metadata": {},
   "source": [
    "## Хэрэглэгдсэн материалууд:\n",
    "1. [Mohan S Acharya - Graduate Admissions 2.0 Dataset](https://www.kaggle.com/mohansacharya/graduate-admissions)\n",
    "2. [Normalization (statistics)](https://en.wikipedia.org/wiki/Normalization_(statistics))\n",
    "3. [Great Emojis](https://getemoji.com)\n",
    "4. [Andrew Ng - Machine Learning Coursera (Best ML course for ME)](https://www.coursera.org/learn/machine-learning?)"
   ]
  },
  {
   "cell_type": "markdown",
   "metadata": {},
   "source": [
    "<br>\n",
    "<br>\n",
    "<br>\n",
    "<br>\n",
    "<br>\n",
    "\n",
    "\n",
    "<h1 style=\"text-align:center;\">Анхаарал тавьсан баярлалаа! 🙏🏻</h1>\n",
    "\n",
    "|contact|url|\n",
    "|--|--|\n",
    "|E-mail  |mailto:bayartsogt@mn.data-artist.com|\n",
    "|Github  |https://github.com/bayartsogt-ya|\n",
    "|Website |https://bayartsogt-ya.github.io|\n",
    "|LinkedIn|https://www.linkedin.com/in/bayartsogt-yadamsuren-b419b217b/|"
   ]
  }
 ],
 "metadata": {
  "kernelspec": {
   "display_name": "Python 3",
   "language": "python",
   "name": "python3"
  },
  "language_info": {
   "codemirror_mode": {
    "name": "ipython",
    "version": 3
   },
   "file_extension": ".py",
   "mimetype": "text/x-python",
   "name": "python",
   "nbconvert_exporter": "python",
   "pygments_lexer": "ipython3",
   "version": "3.7.4"
  }
 },
 "nbformat": 4,
 "nbformat_minor": 2
}
